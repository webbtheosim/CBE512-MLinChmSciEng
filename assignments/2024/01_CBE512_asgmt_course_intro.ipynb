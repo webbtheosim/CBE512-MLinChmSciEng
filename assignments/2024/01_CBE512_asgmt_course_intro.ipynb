{
  "cells": [
    {
      "cell_type": "markdown",
      "metadata": {
        "id": "bkT6A_y25UQp"
      },
      "source": [
        "## **Name**:\n",
        "## **Status**: (e.g., UG3, G1, etc.)\n",
        "## **Department**:"
      ]
    },
    {
      "cell_type": "markdown",
      "metadata": {
        "id": "ArUUNtHR3UuW"
      },
      "source": [
        "# ***CBE 512. Machine Learning in Chemical Science and Engineering.***\n",
        "## **Assignment 01:** *Introduction to Course and Python*\n",
        "### &#169; Princeton University\n",
        "### **DUE**: 11:59pm, September 15, 2024\n",
        "### **Notes**: Supply responses/solutions in a packaged format, including notebook (.ipynb) and any supporting files required to run the notebook. Your assignment should be submitted to Canvas."
      ]
    },
    {
      "cell_type": "markdown",
      "metadata": {
        "id": "LMEau62h4hnt"
      },
      "source": [
        "\n",
        "\n",
        "---\n",
        "\n",
        "\n",
        "## **Problem 1 (10 points):**\n",
        "\n",
        "***This problem is about you.*** Take some time to reflect on what you hope to gain from this course. It can be as simple as \"*I want to practice programming*,\" or as expansive as, \"*I want to learn machine learning so I can apply it to X problem because I'm passionate about Y*.\"\n",
        "*In a few sentences to a paragraph*, please detail some of your specific interests and motivations as it pertains to CBE 512.\n",
        "This will help us  shape the course to suit the needs of physical scientists and engineers.\n",
        "\n",
        "\n",
        "---\n",
        "\n"
      ]
    },
    {
      "cell_type": "markdown",
      "metadata": {
        "id": "z_gNEWMY5MWT"
      },
      "source": [
        "***Student Response:***"
      ]
    },
    {
      "cell_type": "markdown",
      "metadata": {
        "id": "BgNcMQzN5sT3"
      },
      "source": [
        "\n",
        "\n",
        "---\n",
        "\n",
        "\n",
        "## **Problem 2 (30 points):**\n",
        "\n",
        "***This problem is about practicing data visualization and description.*** Examine the contents of `PeriodicTable.csv`.\n",
        "You can download and view it on your own or easily examine the contents on [github](https://github.com/webbtheosim/CBE512-MLinChmSciEng/blob/main/data/PeriodicTable.csv).\n",
        "\n",
        "There are many kinds of data (28 \"features\"). For this problem, I want you to practice presenting data and the relationships of data in the form of graphics/plots. Specifically, examine data associated with three features of your choosing. Supply supporting text to describe what you think the data shows.\n",
        "\n",
        "You may use any software you like for the visualization. Of course, it is probably most natural to use Python here, but if you want to use MATLAB or gnuplot feel free.\n",
        "\n",
        "Is using python, some may like `seaborn`, a package which provides some pretty nifty high-level support on matplotlib and may provide some [ideas](https://seaborn.pydata.org/examples/index.html) on what plots might be worth considering. You can consider things like histograms, kernel density plots, vanilla correlation plots -- whatever you like. Documentation pages and the interent are your friends! Take some time to try and make the figures appear \"polished.\"  This is a very useful skill to have, whether it be in academia or industry.\n",
        "\n",
        "***Side note***: *I used MATLAB to make all my plots during my doctoral study. I then moved to an institution that did not supply MATLAB for free! I converted to Python and have used it ever since.*\n",
        "\n",
        "---\n",
        "\n"
      ]
    },
    {
      "cell_type": "markdown",
      "metadata": {
        "id": "pVqvmwG1IH3d"
      },
      "source": [
        "I provide some code below as well to illustrate how to grab a file from the internet and import it as a `pandas` data frame. I also show how to grab data from the frame and put it in another Python format. Notice that not all data is present for all of the columns."
      ]
    },
    {
      "cell_type": "code",
      "execution_count": null,
      "metadata": {
        "id": "wfQYSmY63TzH"
      },
      "outputs": [],
      "source": [
        "# import modules for this problem\n",
        "import pandas as pd\n",
        "import matplotlib.pyplot as plt\n",
        "import numpy as np\n",
        "import seaborn"
      ]
    },
    {
      "cell_type": "code",
      "execution_count": null,
      "metadata": {
        "colab": {
          "base_uri": "https://localhost:8080/",
          "height": 350
        },
        "id": "bU9EmvdfDm3o",
        "outputId": "90779610-dea5-485a-c3fc-fc42b0996313"
      },
      "outputs": [
        {
          "data": {
            "text/html": [
              "\n",
              "  <div id=\"df-da95e01b-f9c2-442b-9ab8-3bd3e5ae2ad9\" class=\"colab-df-container\">\n",
              "    <div>\n",
              "<style scoped>\n",
              "    .dataframe tbody tr th:only-of-type {\n",
              "        vertical-align: middle;\n",
              "    }\n",
              "\n",
              "    .dataframe tbody tr th {\n",
              "        vertical-align: top;\n",
              "    }\n",
              "\n",
              "    .dataframe thead th {\n",
              "        text-align: right;\n",
              "    }\n",
              "</style>\n",
              "<table border=\"1\" class=\"dataframe\">\n",
              "  <thead>\n",
              "    <tr style=\"text-align: right;\">\n",
              "      <th></th>\n",
              "      <th>AtomicNumber</th>\n",
              "      <th>Element</th>\n",
              "      <th>Symbol</th>\n",
              "      <th>AtomicMass</th>\n",
              "      <th>NumberofNeutrons</th>\n",
              "      <th>NumberofProtons</th>\n",
              "      <th>NumberofElectrons</th>\n",
              "      <th>Period</th>\n",
              "      <th>Group</th>\n",
              "      <th>Phase</th>\n",
              "      <th>...</th>\n",
              "      <th>FirstIonization</th>\n",
              "      <th>Density</th>\n",
              "      <th>MeltingPoint</th>\n",
              "      <th>BoilingPoint</th>\n",
              "      <th>NumberOfIsotopes</th>\n",
              "      <th>Discoverer</th>\n",
              "      <th>Year</th>\n",
              "      <th>SpecificHeat</th>\n",
              "      <th>NumberofShells</th>\n",
              "      <th>NumberofValence</th>\n",
              "    </tr>\n",
              "  </thead>\n",
              "  <tbody>\n",
              "    <tr>\n",
              "      <th>0</th>\n",
              "      <td>1</td>\n",
              "      <td>Hydrogen</td>\n",
              "      <td>H</td>\n",
              "      <td>1.007</td>\n",
              "      <td>0</td>\n",
              "      <td>1</td>\n",
              "      <td>1</td>\n",
              "      <td>1</td>\n",
              "      <td>1.0</td>\n",
              "      <td>gas</td>\n",
              "      <td>...</td>\n",
              "      <td>13.5984</td>\n",
              "      <td>0.000090</td>\n",
              "      <td>14.175</td>\n",
              "      <td>20.28</td>\n",
              "      <td>3.0</td>\n",
              "      <td>Cavendish</td>\n",
              "      <td>1766.0</td>\n",
              "      <td>14.304</td>\n",
              "      <td>1</td>\n",
              "      <td>1.0</td>\n",
              "    </tr>\n",
              "    <tr>\n",
              "      <th>1</th>\n",
              "      <td>2</td>\n",
              "      <td>Helium</td>\n",
              "      <td>He</td>\n",
              "      <td>4.002</td>\n",
              "      <td>2</td>\n",
              "      <td>2</td>\n",
              "      <td>2</td>\n",
              "      <td>1</td>\n",
              "      <td>18.0</td>\n",
              "      <td>gas</td>\n",
              "      <td>...</td>\n",
              "      <td>24.5874</td>\n",
              "      <td>0.000179</td>\n",
              "      <td>NaN</td>\n",
              "      <td>4.22</td>\n",
              "      <td>5.0</td>\n",
              "      <td>Janssen</td>\n",
              "      <td>1868.0</td>\n",
              "      <td>5.193</td>\n",
              "      <td>1</td>\n",
              "      <td>NaN</td>\n",
              "    </tr>\n",
              "    <tr>\n",
              "      <th>2</th>\n",
              "      <td>3</td>\n",
              "      <td>Lithium</td>\n",
              "      <td>Li</td>\n",
              "      <td>6.941</td>\n",
              "      <td>4</td>\n",
              "      <td>3</td>\n",
              "      <td>3</td>\n",
              "      <td>2</td>\n",
              "      <td>1.0</td>\n",
              "      <td>solid</td>\n",
              "      <td>...</td>\n",
              "      <td>5.3917</td>\n",
              "      <td>0.534000</td>\n",
              "      <td>453.850</td>\n",
              "      <td>1615.00</td>\n",
              "      <td>5.0</td>\n",
              "      <td>Arfvedson</td>\n",
              "      <td>1817.0</td>\n",
              "      <td>3.582</td>\n",
              "      <td>2</td>\n",
              "      <td>1.0</td>\n",
              "    </tr>\n",
              "    <tr>\n",
              "      <th>3</th>\n",
              "      <td>4</td>\n",
              "      <td>Beryllium</td>\n",
              "      <td>Be</td>\n",
              "      <td>9.012</td>\n",
              "      <td>5</td>\n",
              "      <td>4</td>\n",
              "      <td>4</td>\n",
              "      <td>2</td>\n",
              "      <td>2.0</td>\n",
              "      <td>solid</td>\n",
              "      <td>...</td>\n",
              "      <td>9.3227</td>\n",
              "      <td>1.850000</td>\n",
              "      <td>1560.150</td>\n",
              "      <td>2742.00</td>\n",
              "      <td>6.0</td>\n",
              "      <td>Vaulquelin</td>\n",
              "      <td>1798.0</td>\n",
              "      <td>1.825</td>\n",
              "      <td>2</td>\n",
              "      <td>2.0</td>\n",
              "    </tr>\n",
              "    <tr>\n",
              "      <th>4</th>\n",
              "      <td>5</td>\n",
              "      <td>Boron</td>\n",
              "      <td>B</td>\n",
              "      <td>10.811</td>\n",
              "      <td>6</td>\n",
              "      <td>5</td>\n",
              "      <td>5</td>\n",
              "      <td>2</td>\n",
              "      <td>13.0</td>\n",
              "      <td>solid</td>\n",
              "      <td>...</td>\n",
              "      <td>8.2980</td>\n",
              "      <td>2.340000</td>\n",
              "      <td>2573.150</td>\n",
              "      <td>4200.00</td>\n",
              "      <td>6.0</td>\n",
              "      <td>Gay-Lussac</td>\n",
              "      <td>1808.0</td>\n",
              "      <td>1.026</td>\n",
              "      <td>2</td>\n",
              "      <td>3.0</td>\n",
              "    </tr>\n",
              "    <tr>\n",
              "      <th>5</th>\n",
              "      <td>6</td>\n",
              "      <td>Carbon</td>\n",
              "      <td>C</td>\n",
              "      <td>12.011</td>\n",
              "      <td>6</td>\n",
              "      <td>6</td>\n",
              "      <td>6</td>\n",
              "      <td>2</td>\n",
              "      <td>14.0</td>\n",
              "      <td>solid</td>\n",
              "      <td>...</td>\n",
              "      <td>11.2603</td>\n",
              "      <td>2.270000</td>\n",
              "      <td>3948.150</td>\n",
              "      <td>4300.00</td>\n",
              "      <td>7.0</td>\n",
              "      <td>Prehistoric</td>\n",
              "      <td>NaN</td>\n",
              "      <td>0.709</td>\n",
              "      <td>2</td>\n",
              "      <td>4.0</td>\n",
              "    </tr>\n",
              "    <tr>\n",
              "      <th>6</th>\n",
              "      <td>7</td>\n",
              "      <td>Nitrogen</td>\n",
              "      <td>N</td>\n",
              "      <td>14.007</td>\n",
              "      <td>7</td>\n",
              "      <td>7</td>\n",
              "      <td>7</td>\n",
              "      <td>2</td>\n",
              "      <td>15.0</td>\n",
              "      <td>gas</td>\n",
              "      <td>...</td>\n",
              "      <td>14.5341</td>\n",
              "      <td>0.001250</td>\n",
              "      <td>63.290</td>\n",
              "      <td>77.36</td>\n",
              "      <td>8.0</td>\n",
              "      <td>Rutherford</td>\n",
              "      <td>1772.0</td>\n",
              "      <td>1.040</td>\n",
              "      <td>2</td>\n",
              "      <td>5.0</td>\n",
              "    </tr>\n",
              "    <tr>\n",
              "      <th>7</th>\n",
              "      <td>8</td>\n",
              "      <td>Oxygen</td>\n",
              "      <td>O</td>\n",
              "      <td>15.999</td>\n",
              "      <td>8</td>\n",
              "      <td>8</td>\n",
              "      <td>8</td>\n",
              "      <td>2</td>\n",
              "      <td>16.0</td>\n",
              "      <td>gas</td>\n",
              "      <td>...</td>\n",
              "      <td>13.6181</td>\n",
              "      <td>0.001430</td>\n",
              "      <td>50.500</td>\n",
              "      <td>90.20</td>\n",
              "      <td>8.0</td>\n",
              "      <td>Priestley/Scheele</td>\n",
              "      <td>1774.0</td>\n",
              "      <td>0.918</td>\n",
              "      <td>2</td>\n",
              "      <td>6.0</td>\n",
              "    </tr>\n",
              "  </tbody>\n",
              "</table>\n",
              "<p>8 rows × 28 columns</p>\n",
              "</div>\n",
              "    <div class=\"colab-df-buttons\">\n",
              "\n",
              "  <div class=\"colab-df-container\">\n",
              "    <button class=\"colab-df-convert\" onclick=\"convertToInteractive('df-da95e01b-f9c2-442b-9ab8-3bd3e5ae2ad9')\"\n",
              "            title=\"Convert this dataframe to an interactive table.\"\n",
              "            style=\"display:none;\">\n",
              "\n",
              "  <svg xmlns=\"http://www.w3.org/2000/svg\" height=\"24px\" viewBox=\"0 -960 960 960\">\n",
              "    <path d=\"M120-120v-720h720v720H120Zm60-500h600v-160H180v160Zm220 220h160v-160H400v160Zm0 220h160v-160H400v160ZM180-400h160v-160H180v160Zm440 0h160v-160H620v160ZM180-180h160v-160H180v160Zm440 0h160v-160H620v160Z\"/>\n",
              "  </svg>\n",
              "    </button>\n",
              "\n",
              "  <style>\n",
              "    .colab-df-container {\n",
              "      display:flex;\n",
              "      gap: 12px;\n",
              "    }\n",
              "\n",
              "    .colab-df-convert {\n",
              "      background-color: #E8F0FE;\n",
              "      border: none;\n",
              "      border-radius: 50%;\n",
              "      cursor: pointer;\n",
              "      display: none;\n",
              "      fill: #1967D2;\n",
              "      height: 32px;\n",
              "      padding: 0 0 0 0;\n",
              "      width: 32px;\n",
              "    }\n",
              "\n",
              "    .colab-df-convert:hover {\n",
              "      background-color: #E2EBFA;\n",
              "      box-shadow: 0px 1px 2px rgba(60, 64, 67, 0.3), 0px 1px 3px 1px rgba(60, 64, 67, 0.15);\n",
              "      fill: #174EA6;\n",
              "    }\n",
              "\n",
              "    .colab-df-buttons div {\n",
              "      margin-bottom: 4px;\n",
              "    }\n",
              "\n",
              "    [theme=dark] .colab-df-convert {\n",
              "      background-color: #3B4455;\n",
              "      fill: #D2E3FC;\n",
              "    }\n",
              "\n",
              "    [theme=dark] .colab-df-convert:hover {\n",
              "      background-color: #434B5C;\n",
              "      box-shadow: 0px 1px 3px 1px rgba(0, 0, 0, 0.15);\n",
              "      filter: drop-shadow(0px 1px 2px rgba(0, 0, 0, 0.3));\n",
              "      fill: #FFFFFF;\n",
              "    }\n",
              "  </style>\n",
              "\n",
              "    <script>\n",
              "      const buttonEl =\n",
              "        document.querySelector('#df-da95e01b-f9c2-442b-9ab8-3bd3e5ae2ad9 button.colab-df-convert');\n",
              "      buttonEl.style.display =\n",
              "        google.colab.kernel.accessAllowed ? 'block' : 'none';\n",
              "\n",
              "      async function convertToInteractive(key) {\n",
              "        const element = document.querySelector('#df-da95e01b-f9c2-442b-9ab8-3bd3e5ae2ad9');\n",
              "        const dataTable =\n",
              "          await google.colab.kernel.invokeFunction('convertToInteractive',\n",
              "                                                    [key], {});\n",
              "        if (!dataTable) return;\n",
              "\n",
              "        const docLinkHtml = 'Like what you see? Visit the ' +\n",
              "          '<a target=\"_blank\" href=https://colab.research.google.com/notebooks/data_table.ipynb>data table notebook</a>'\n",
              "          + ' to learn more about interactive tables.';\n",
              "        element.innerHTML = '';\n",
              "        dataTable['output_type'] = 'display_data';\n",
              "        await google.colab.output.renderOutput(dataTable, element);\n",
              "        const docLink = document.createElement('div');\n",
              "        docLink.innerHTML = docLinkHtml;\n",
              "        element.appendChild(docLink);\n",
              "      }\n",
              "    </script>\n",
              "  </div>\n",
              "\n",
              "\n",
              "<div id=\"df-e7002528-164e-4d61-9761-2dba9026103e\">\n",
              "  <button class=\"colab-df-quickchart\" onclick=\"quickchart('df-e7002528-164e-4d61-9761-2dba9026103e')\"\n",
              "            title=\"Suggest charts.\"\n",
              "            style=\"display:none;\">\n",
              "\n",
              "<svg xmlns=\"http://www.w3.org/2000/svg\" height=\"24px\"viewBox=\"0 0 24 24\"\n",
              "     width=\"24px\">\n",
              "    <g>\n",
              "        <path d=\"M19 3H5c-1.1 0-2 .9-2 2v14c0 1.1.9 2 2 2h14c1.1 0 2-.9 2-2V5c0-1.1-.9-2-2-2zM9 17H7v-7h2v7zm4 0h-2V7h2v10zm4 0h-2v-4h2v4z\"/>\n",
              "    </g>\n",
              "</svg>\n",
              "  </button>\n",
              "\n",
              "<style>\n",
              "  .colab-df-quickchart {\n",
              "      --bg-color: #E8F0FE;\n",
              "      --fill-color: #1967D2;\n",
              "      --hover-bg-color: #E2EBFA;\n",
              "      --hover-fill-color: #174EA6;\n",
              "      --disabled-fill-color: #AAA;\n",
              "      --disabled-bg-color: #DDD;\n",
              "  }\n",
              "\n",
              "  [theme=dark] .colab-df-quickchart {\n",
              "      --bg-color: #3B4455;\n",
              "      --fill-color: #D2E3FC;\n",
              "      --hover-bg-color: #434B5C;\n",
              "      --hover-fill-color: #FFFFFF;\n",
              "      --disabled-bg-color: #3B4455;\n",
              "      --disabled-fill-color: #666;\n",
              "  }\n",
              "\n",
              "  .colab-df-quickchart {\n",
              "    background-color: var(--bg-color);\n",
              "    border: none;\n",
              "    border-radius: 50%;\n",
              "    cursor: pointer;\n",
              "    display: none;\n",
              "    fill: var(--fill-color);\n",
              "    height: 32px;\n",
              "    padding: 0;\n",
              "    width: 32px;\n",
              "  }\n",
              "\n",
              "  .colab-df-quickchart:hover {\n",
              "    background-color: var(--hover-bg-color);\n",
              "    box-shadow: 0 1px 2px rgba(60, 64, 67, 0.3), 0 1px 3px 1px rgba(60, 64, 67, 0.15);\n",
              "    fill: var(--button-hover-fill-color);\n",
              "  }\n",
              "\n",
              "  .colab-df-quickchart-complete:disabled,\n",
              "  .colab-df-quickchart-complete:disabled:hover {\n",
              "    background-color: var(--disabled-bg-color);\n",
              "    fill: var(--disabled-fill-color);\n",
              "    box-shadow: none;\n",
              "  }\n",
              "\n",
              "  .colab-df-spinner {\n",
              "    border: 2px solid var(--fill-color);\n",
              "    border-color: transparent;\n",
              "    border-bottom-color: var(--fill-color);\n",
              "    animation:\n",
              "      spin 1s steps(1) infinite;\n",
              "  }\n",
              "\n",
              "  @keyframes spin {\n",
              "    0% {\n",
              "      border-color: transparent;\n",
              "      border-bottom-color: var(--fill-color);\n",
              "      border-left-color: var(--fill-color);\n",
              "    }\n",
              "    20% {\n",
              "      border-color: transparent;\n",
              "      border-left-color: var(--fill-color);\n",
              "      border-top-color: var(--fill-color);\n",
              "    }\n",
              "    30% {\n",
              "      border-color: transparent;\n",
              "      border-left-color: var(--fill-color);\n",
              "      border-top-color: var(--fill-color);\n",
              "      border-right-color: var(--fill-color);\n",
              "    }\n",
              "    40% {\n",
              "      border-color: transparent;\n",
              "      border-right-color: var(--fill-color);\n",
              "      border-top-color: var(--fill-color);\n",
              "    }\n",
              "    60% {\n",
              "      border-color: transparent;\n",
              "      border-right-color: var(--fill-color);\n",
              "    }\n",
              "    80% {\n",
              "      border-color: transparent;\n",
              "      border-right-color: var(--fill-color);\n",
              "      border-bottom-color: var(--fill-color);\n",
              "    }\n",
              "    90% {\n",
              "      border-color: transparent;\n",
              "      border-bottom-color: var(--fill-color);\n",
              "    }\n",
              "  }\n",
              "</style>\n",
              "\n",
              "  <script>\n",
              "    async function quickchart(key) {\n",
              "      const quickchartButtonEl =\n",
              "        document.querySelector('#' + key + ' button');\n",
              "      quickchartButtonEl.disabled = true;  // To prevent multiple clicks.\n",
              "      quickchartButtonEl.classList.add('colab-df-spinner');\n",
              "      try {\n",
              "        const charts = await google.colab.kernel.invokeFunction(\n",
              "            'suggestCharts', [key], {});\n",
              "      } catch (error) {\n",
              "        console.error('Error during call to suggestCharts:', error);\n",
              "      }\n",
              "      quickchartButtonEl.classList.remove('colab-df-spinner');\n",
              "      quickchartButtonEl.classList.add('colab-df-quickchart-complete');\n",
              "    }\n",
              "    (() => {\n",
              "      let quickchartButtonEl =\n",
              "        document.querySelector('#df-e7002528-164e-4d61-9761-2dba9026103e button');\n",
              "      quickchartButtonEl.style.display =\n",
              "        google.colab.kernel.accessAllowed ? 'block' : 'none';\n",
              "    })();\n",
              "  </script>\n",
              "</div>\n",
              "    </div>\n",
              "  </div>\n"
            ],
            "text/plain": [
              "   AtomicNumber    Element Symbol  AtomicMass  NumberofNeutrons  \\\n",
              "0             1   Hydrogen      H       1.007                 0   \n",
              "1             2     Helium     He       4.002                 2   \n",
              "2             3    Lithium     Li       6.941                 4   \n",
              "3             4  Beryllium     Be       9.012                 5   \n",
              "4             5      Boron      B      10.811                 6   \n",
              "5             6     Carbon      C      12.011                 6   \n",
              "6             7   Nitrogen      N      14.007                 7   \n",
              "7             8     Oxygen      O      15.999                 8   \n",
              "\n",
              "   NumberofProtons  NumberofElectrons  Period  Group  Phase  ...  \\\n",
              "0                1                  1       1    1.0    gas  ...   \n",
              "1                2                  2       1   18.0    gas  ...   \n",
              "2                3                  3       2    1.0  solid  ...   \n",
              "3                4                  4       2    2.0  solid  ...   \n",
              "4                5                  5       2   13.0  solid  ...   \n",
              "5                6                  6       2   14.0  solid  ...   \n",
              "6                7                  7       2   15.0    gas  ...   \n",
              "7                8                  8       2   16.0    gas  ...   \n",
              "\n",
              "  FirstIonization   Density MeltingPoint BoilingPoint NumberOfIsotopes  \\\n",
              "0         13.5984  0.000090       14.175        20.28              3.0   \n",
              "1         24.5874  0.000179          NaN         4.22              5.0   \n",
              "2          5.3917  0.534000      453.850      1615.00              5.0   \n",
              "3          9.3227  1.850000     1560.150      2742.00              6.0   \n",
              "4          8.2980  2.340000     2573.150      4200.00              6.0   \n",
              "5         11.2603  2.270000     3948.150      4300.00              7.0   \n",
              "6         14.5341  0.001250       63.290        77.36              8.0   \n",
              "7         13.6181  0.001430       50.500        90.20              8.0   \n",
              "\n",
              "          Discoverer    Year  SpecificHeat  NumberofShells  NumberofValence  \n",
              "0          Cavendish  1766.0        14.304               1              1.0  \n",
              "1            Janssen  1868.0         5.193               1              NaN  \n",
              "2          Arfvedson  1817.0         3.582               2              1.0  \n",
              "3         Vaulquelin  1798.0         1.825               2              2.0  \n",
              "4         Gay-Lussac  1808.0         1.026               2              3.0  \n",
              "5        Prehistoric     NaN         0.709               2              4.0  \n",
              "6         Rutherford  1772.0         1.040               2              5.0  \n",
              "7  Priestley/Scheele  1774.0         0.918               2              6.0  \n",
              "\n",
              "[8 rows x 28 columns]"
            ]
          },
          "execution_count": 10,
          "metadata": {},
          "output_type": "execute_result"
        }
      ],
      "source": [
        "url_for_table = \"https://raw.githubusercontent.com/webbtheosim/CBE512-MLinChmSciEng/main/data/PeriodicTable.csv\"\n",
        "periodic_table= pd.read_csv(url_for_table,sep=\",\") # the data is already packaged as a .csv -- pandas can process this via the .read_csv method\n",
        "periodic_table.head(8) # the methods .head and .tail allow you to quickly inspect the file"
      ]
    },
    {
      "cell_type": "code",
      "execution_count": null,
      "metadata": {
        "colab": {
          "base_uri": "https://localhost:8080/"
        },
        "id": "ek7T2V7iFRvx",
        "outputId": "de76ad9e-3d40-494d-afb7-37840b291629"
      },
      "outputs": [
        {
          "name": "stdout",
          "output_type": "stream",
          "text": [
            "<class 'numpy.ndarray'> (118,)\n",
            "[8.99e-05 1.79e-04 5.34e-01 1.85e+00 2.34e+00 2.27e+00 1.25e-03 1.43e-03\n",
            " 1.70e-03 9.00e-04 9.71e-01 1.74e+00 2.70e+00 2.33e+00 1.82e+00 2.07e+00\n",
            " 3.21e-03 1.78e-03 8.62e-01 1.54e+00 2.99e+00 4.54e+00 6.11e+00 7.15e+00\n",
            " 7.44e+00 7.87e+00 8.86e+00 8.91e+00 8.96e+00 7.13e+00 5.91e+00 5.32e+00\n",
            " 5.78e+00 4.81e+00 3.12e+00 3.73e-03 1.53e+00 2.64e+00 4.47e+00 6.51e+00\n",
            " 8.57e+00 1.02e+01 1.15e+01 1.24e+01 1.24e+01 1.20e+01 1.05e+01 8.69e+00\n",
            " 7.31e+00 7.29e+00 6.69e+00 6.23e+00 4.93e+00 5.89e-03 1.87e+00 3.59e+00\n",
            " 6.15e+00 6.77e+00 6.77e+00 7.01e+00 7.26e+00 7.52e+00 5.24e+00 7.90e+00\n",
            " 8.23e+00 8.55e+00 8.80e+00 9.07e+00 9.32e+00 6.97e+00 9.84e+00 1.33e+01\n",
            " 1.67e+01 1.93e+01 2.10e+01 2.26e+01 2.26e+01 2.15e+01 1.93e+01 1.35e+01\n",
            " 1.19e+01 1.13e+01 9.81e+00 9.32e+00 7.00e+00 9.73e-03 1.87e+00 5.50e+00\n",
            " 1.01e+01 1.17e+01 1.54e+01 1.90e+01 2.05e+01 1.98e+01 1.37e+01 1.35e+01\n",
            " 1.48e+01 1.51e+01 1.35e+01      nan      nan      nan      nan 1.81e+01\n",
            " 3.90e+01 3.50e+01 3.70e+01 4.10e+01 3.50e+01      nan      nan      nan\n",
            "      nan      nan      nan      nan      nan      nan]\n"
          ]
        }
      ],
      "source": [
        "density = periodic_table['Density'].to_numpy()\n",
        "print(type(density), density.shape)\n",
        "print(density)"
      ]
    },
    {
      "cell_type": "markdown",
      "metadata": {
        "id": "S0KYfiA1JN94"
      },
      "source": [
        "\n",
        "\n",
        "---\n",
        "\n",
        "\n",
        "## **Problem 3 (30 points):**\n",
        "\n",
        "***This problem is about data manipulation and analytic geometry.*** Here we will work with data from `Tm_200_subset.csv`.\n",
        "You can download and view it on your own or easily examine the contents on [github](https://github.com/webbtheosim/CBE512-MLinChmSciEng/blob/main/data/Tm_200_subset.csv). The `url` for the \"raw\" data is [here](https://raw.githubusercontent.com/webbtheosim/CBE512-MLinChmSciEng/main/data/Tm_200_subset.csv).\n",
        "\n",
        "\n",
        "\n",
        "---\n",
        "\n"
      ]
    },
    {
      "cell_type": "markdown",
      "metadata": {
        "id": "Ahk6zjBKMnNq"
      },
      "source": [
        "## **(a)** Molecules in a vector space.\n",
        "Later in the course we will discuss a variety of approaches to represent chemical information to machine learning models. Here, you will create a basic representation that converts a molecule, reported as a SMILES string, into something that we can work with. In particular, you will use a \"Bag-of-Elements\" vector that can be constructed from each SMILES string.\n",
        "For convenience, we will exclude hydrogen. That leaves ten unique elements across all SMILES strings in the dataset:\n",
        "\n",
        "`['C', 'O', 'N', 'Cl', 'B', 'Br', 'I', 'F', 'S', 'P']`\n",
        "\n",
        "You can think of these different elements now as basis within a vector space describing molecules. The vector will live in $\\mathbb{W}^{10}$, i.e., a tuple of 10 natural numbers (positive integers and 0), although this is not critically important (it could be $\\mathbb{R}^{10})$. Each dimension/component of the vector should contain the number of times the corresponding element appears in the SMILES string.  For a SMILES given by `'CCCCC'`, the vector would have a 5 in whatever component corresponds to ``C'' and 0 everywhere else:\n",
        "\n",
        "\n",
        "`[5, 0, 0, 0, 0, 0, 0, 0, 0, 0]`\n",
        "\n",
        "\n",
        "Describe what you think may be some advantages/limitations of describing molecules in this vector space?\n",
        "\n",
        "\n",
        "\n"
      ]
    },
    {
      "cell_type": "markdown",
      "metadata": {
        "id": "EZ9EAqS5iWrD"
      },
      "source": [
        "***Student Response:***"
      ]
    },
    {
      "cell_type": "markdown",
      "metadata": {
        "id": "-1M41H04iW_s"
      },
      "source": [
        "## **(b)** Processing strings into feature vectors.\n",
        "Write a function that converts the SMILES string to a numerical \"Bag-of-Elements\" vector.  Note that you will have to be a little careful with handling 'Br' vs. 'B' and 'Cl' vs. 'C'b"
      ]
    },
    {
      "cell_type": "code",
      "execution_count": null,
      "metadata": {
        "id": "Orp4Q8VzIiGo"
      },
      "outputs": [],
      "source": []
    },
    {
      "cell_type": "markdown",
      "metadata": {
        "id": "ojRf0_-3jbqP"
      },
      "source": [
        "## **(c)** Chemical similarity as a norm.\n",
        "\n",
        "Use the norm induced by the dot product to obtain a  distance as a metric for similarity / dissimilarity. Identify which set of molecules are \"most similar\" and which set of molecules are \"most dissimilar\" based on this distance metric. What limitations might there be to using this expression for similarity between molecules?"
      ]
    },
    {
      "cell_type": "code",
      "execution_count": null,
      "metadata": {
        "id": "8JyryuNAj1pC"
      },
      "outputs": [],
      "source": []
    },
    {
      "cell_type": "markdown",
      "metadata": {
        "id": "-pD9jcahj2ld"
      },
      "source": [
        "## **(d)** Plotting distributions.\n",
        "\n",
        "Plot the distribution of pairwise distances between molecules."
      ]
    },
    {
      "cell_type": "code",
      "execution_count": null,
      "metadata": {
        "id": "PXOoJi_4kPfR"
      },
      "outputs": [],
      "source": []
    },
    {
      "cell_type": "markdown",
      "metadata": {
        "id": "_jUyIyvykP3s"
      },
      "source": [
        "## **(e)** Distances are a matter of perspective.\n",
        "\n",
        "Repeat parts **(c)** and **(d)** for a *different* distance metric of your choice. You might look into topics like Earth mover's distance or Tanimoto similarity/Jaccard index. How does this impact your findings? Your distance metric need not have an associated inner product.\n"
      ]
    },
    {
      "cell_type": "code",
      "execution_count": null,
      "metadata": {
        "id": "EhQNoyOajz2_"
      },
      "outputs": [],
      "source": []
    },
    {
      "cell_type": "markdown",
      "metadata": {
        "id": "Kc1htZSNl6aP"
      },
      "source": [
        "\n",
        "\n",
        "---\n",
        "\n",
        "\n",
        "## **Problem 4 (30 points):**\n",
        "\n",
        "***This problem is about file processing and data manipulation.***\n",
        "Here, we will work with data from `curated-solubility-cbe512.txt`.\n",
        "This file is modified from a version curated [deep learning for molecules & materials](https://dmol.pub/) by Andrew white.   \n",
        "\n",
        "You can download and view it on your own or easily examine the contents on [github](https://github.com/webbtheosim/CBE512-MLinChmSciEng/blob/main/data/curated-solubility-cbe512.txt). The `url` for the \"raw\" data is [here](https://raw.githubusercontent.com/webbtheosim/CBE512-MLinChmSciEng/main/data/curated-solubility-cbe512.txt).\n",
        "\n",
        "\n",
        "\n",
        "---\n",
        "\n"
      ]
    },
    {
      "cell_type": "markdown",
      "metadata": {
        "id": "gHJeYY-xoRMU"
      },
      "source": [
        "## **(a)** Using dictionaries to contain data of differing types.\n",
        "\n",
        "Examine the aforementioned file, which should contain three space-delimited columns. The first column features a SMILES string of a molecule, the second reports a measured solubility value, and the third reports the molecular weight in g/mol.\n",
        "\n",
        "Write a program/function that parses the file and outputs a dictionary object. The dictionary should use the SMILES string as a key to access the molar mass as a property. In the code block below, I provide some code that first processes the file into a list.\n"
      ]
    },
    {
      "cell_type": "code",
      "execution_count": null,
      "metadata": {
        "id": "xeErudF3oQEF"
      },
      "outputs": [],
      "source": [
        "import urllib.request # we would not need this if we had the file offline\n",
        "\n",
        "url_for_solubility_data = \"https://raw.githubusercontent.com/webbtheosim/CBE512-MLinChmSciEng/main/data/curated-solubility-cbe512.txt\"\n",
        "lines = [line.strip().split() for line in urllib.request.urlopen(url_for_solubility_data)]\n",
        "# lines is a list of lists... strip gets rid of newline characters, split parses a string into chunks based on a delimiter\n",
        "# if you had the file locally, then the urllib.request could just be replaced with open(fileName,\"r\")\n",
        "\n"
      ]
    },
    {
      "cell_type": "code",
      "execution_count": null,
      "metadata": {
        "colab": {
          "base_uri": "https://localhost:8080/"
        },
        "id": "IJNuTQPDrGWj",
        "outputId": "8ae93e8e-e599-4229-f51b-ba135ea830c0"
      },
      "outputs": [
        {
          "name": "stdout",
          "output_type": "stream",
          "text": [
            "Currently, a is of type <class 'str'>\n",
            "Now, a is of type <class 'float'>\n"
          ]
        }
      ],
      "source": [
        "# if you want to convert a string literal to a number you can use something like this\n",
        "a = '3.14159'\n",
        "print(\"Currently, a is of type {}\".format(type(a)))\n",
        "a = float(a)\n",
        "print(\"Now, a is of type {}\".format(type(a)))"
      ]
    },
    {
      "cell_type": "code",
      "execution_count": null,
      "metadata": {
        "colab": {
          "base_uri": "https://localhost:8080/"
        },
        "id": "_UcWIHmZrTIg",
        "outputId": "26fbd1fc-0443-46bf-8a04-486960675160"
      },
      "outputs": [
        {
          "name": "stdout",
          "output_type": "stream",
          "text": [
            "{'this': 1, 'that': 2, 'other': 3}\n",
            "{'this': 1, 'that': 2, 'other': 3}\n"
          ]
        }
      ],
      "source": [
        "# dictionaries can be created by using {} or by applying dict() to some set of tuples\n",
        "myList = [('this',1),('that',2),('other',3)]\n",
        "myDict = dict(myList)\n",
        "print(myDict)\n",
        "\n",
        "sameDict = {'this':1,'that':2,'other':3}\n",
        "print(sameDict)"
      ]
    },
    {
      "cell_type": "markdown",
      "metadata": {
        "id": "oKpNOYpxsIvb"
      },
      "source": [
        "## **(b)** Searching strings and processing data structures.\n",
        "\n",
        "Write a program/function that processes your dictionary and identifies a subset of the molecules that contain carbonyl groups. These should be identifiable by the string sequence `'=O'`. Have your code write a file containing this subset of molecules and also output a new dictionary with data only on the carbonyl-containing subset. Additionally report what fraction of molecules in the original file have carbonyl groups.\n"
      ]
    },
    {
      "cell_type": "code",
      "execution_count": null,
      "metadata": {
        "id": "WDDaQZieptn5"
      },
      "outputs": [],
      "source": [
        "# you can create files by doing something like this\n",
        "outName = \"tmp.txt\"\n",
        "fid = open(outName,\"w\")\n",
        "for i in range(10)[::-1]:\n",
        "  fid.write(\"{}...\\n\".format(i+1))\n",
        "fid.write(\"Houston, we have a problem\\n\")\n",
        "fid.close()\n",
        "\n",
        "# you can also ensure files are closed by using something like this\n",
        "with open(\"also\"+outName,\"w\") as fid:\n",
        "  fid.write(\"Hello CBE 512!\\n\")\n",
        "  fid.write(\"Another line\\n\")\n",
        "  fid.write(\"{}\".format(i))\n",
        "\n"
      ]
    },
    {
      "cell_type": "code",
      "execution_count": null,
      "metadata": {
        "id": "WVdPKm8punXn"
      },
      "outputs": [],
      "source": []
    },
    {
      "cell_type": "markdown",
      "metadata": {
        "id": "BQQuz2RSupgt"
      },
      "source": [
        "## **(c)** Searching strings and processing data structures.\n",
        "\n",
        "Create a plot that compares the distribution of molecular weights over the full dataset and the carbonyl-containing subset. You can use either a line-based or bar-based representation of the data. It may be useful to use the `alpha` attribute if using a bar plot (e.g., `plt.hist`) to effectively visualize the overlap.\n"
      ]
    },
    {
      "cell_type": "code",
      "execution_count": null,
      "metadata": {
        "id": "0m9YKtIRu_Tv"
      },
      "outputs": [],
      "source": []
    },
    {
      "cell_type": "markdown",
      "metadata": {
        "id": "pZOk6kIvvALs"
      },
      "source": [
        "## **(d)** Standard normalization.\n",
        "\n",
        "Next calculate and report the average and standard deviation of molecular weights for both the full dataset and the carbonyl-containing subset. Write a new function that takes as input a dictionary and ``standard-normalizes'' the molecular weight. In other words, the entry in the molecular weight will now become\n",
        "\n",
        "$$\\tilde{\\text{MW}} = \\frac{\\text{MW} - \\mu_\\text{MW}}{\\sigma_{\\text{MW}}}$$\n",
        "\n",
        "where $\\mu_x$ and $\\sigma_x$ indicate the mean and standard deviation of variable $x$.\n",
        "\n",
        "Plot the distribution of $\\tilde{\\text{MW}}$. How does this compare to the original distribution?"
      ]
    },
    {
      "cell_type": "code",
      "execution_count": null,
      "metadata": {
        "id": "w5KjsbTgs-Hi"
      },
      "outputs": [],
      "source": []
    },
    {
      "cell_type": "markdown",
      "metadata": {
        "id": "rmJcTEZUvmEf"
      },
      "source": [
        "## **Extra stuff**\n",
        "\n",
        "Below I just want to provide a few cells to illustrate some things about Python that you want to be careful of. This can be exploited as long as you are careful. Consider the two functions below that will effectively do the same thing: take as input a dictionary and output a dictionary with all the values doubled."
      ]
    },
    {
      "cell_type": "code",
      "execution_count": null,
      "metadata": {
        "id": "zYfA5n8qvk-C"
      },
      "outputs": [],
      "source": [
        "def double_it(the_dict):\n",
        "  new_dict = {}\n",
        "  for key,val in the_dict.items():\n",
        "    new_dict[key] = 2*val\n",
        "  return new_dict\n",
        "\n",
        "def double_in_place(the_dict):\n",
        "  for key in the_dict:\n",
        "    the_dict[key] *= 2\n",
        "  return\n"
      ]
    },
    {
      "cell_type": "code",
      "execution_count": null,
      "metadata": {
        "colab": {
          "base_uri": "https://localhost:8080/"
        },
        "id": "FXWUmXhXw8d1",
        "outputId": "9e30279d-4491-4c18-b0f3-f7acca5f0a9b"
      },
      "outputs": [
        {
          "name": "stdout",
          "output_type": "stream",
          "text": [
            "{0: 0.306, 1: 0.023, 2: 0.349, 3: 0.083, 4: 0.993, 5: 0.305, 6: 0.465, 7: 0.568, 8: 0.597, 9: 0.924}\n",
            "{0: 0.612, 1: 0.046, 2: 0.698, 3: 0.166, 4: 1.986, 5: 0.61, 6: 0.93, 7: 1.136, 8: 1.194, 9: 1.848}\n",
            "{0: 0.612, 1: 0.046, 2: 0.698, 3: 0.166, 4: 1.986, 5: 0.61, 6: 0.93, 7: 1.136, 8: 1.194, 9: 1.848}\n",
            "{0: 1.224, 1: 0.092, 2: 1.396, 3: 0.332, 4: 3.972, 5: 1.22, 6: 1.86, 7: 2.272, 8: 2.388, 9: 3.696}\n"
          ]
        }
      ],
      "source": [
        "import random\n",
        "import numpy as np\n",
        "myDict  = {i: np.round(random.random(),3) for i in range(10)}\n",
        "print(myDict)\n",
        "\n",
        "doubleDict = double_it(myDict) # here we create a new dictionary and send it out\n",
        "print(doubleDict)\n",
        "\n",
        "double_in_place(myDict) # here we do not have an output, we have modified the object coming in\n",
        "print(myDict)\n",
        "\n",
        "alsoDoubled = {key: 2*val for (key,val) in myDict.items()} # here we avoid creating a function\n",
        "print(alsoDoubled)"
      ]
    },
    {
      "cell_type": "code",
      "execution_count": null,
      "metadata": {
        "id": "P5HLRDonxQTI"
      },
      "outputs": [],
      "source": []
    }
  ],
  "metadata": {
    "colab": {
      "provenance": []
    },
    "kernelspec": {
      "display_name": "Python 3 (ipykernel)",
      "language": "python",
      "name": "python3"
    },
    "language_info": {
      "codemirror_mode": {
        "name": "ipython",
        "version": 3
      },
      "file_extension": ".py",
      "mimetype": "text/x-python",
      "name": "python",
      "nbconvert_exporter": "python",
      "pygments_lexer": "ipython3",
      "version": "3.11.8"
    }
  },
  "nbformat": 4,
  "nbformat_minor": 0
}