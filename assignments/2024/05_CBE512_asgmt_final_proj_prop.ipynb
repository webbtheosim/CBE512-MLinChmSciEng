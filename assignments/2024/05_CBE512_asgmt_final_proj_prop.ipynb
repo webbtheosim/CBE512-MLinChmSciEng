{
  "nbformat": 4,
  "nbformat_minor": 0,
  "metadata": {
    "colab": {
      "provenance": []
    },
    "kernelspec": {
      "name": "python3",
      "display_name": "Python 3"
    },
    "language_info": {
      "name": "python"
    }
  },
  "cells": [
    {
      "cell_type": "markdown",
      "source": [
        "## **Name**:\n",
        "## **Status**: (e.g., UG3, G1, etc.)\n",
        "## **Department**:"
      ],
      "metadata": {
        "id": "_3Lw7tcolDvH"
      }
    },
    {
      "cell_type": "markdown",
      "source": [
        "# ***CBE 512. Machine Learning in Chemical Science and Engineering.***\n",
        "## **Assignment 05:** *Final Paper Proposal*\n",
        "### &#169; Princeton University\n",
        "### **DUE**: 11:59pm, November 15, 2024\n",
        "### **Notes**: Supply responses/solutions in a packaged format, including notebook (.ipynb), .docx, or .pdf for your text, and .pdf for slides. Your assignment should be submitted to Canvas."
      ],
      "metadata": {
        "id": "Wr-KFV4plFjv"
      }
    },
    {
      "cell_type": "markdown",
      "source": [
        "\n",
        "\n",
        "---\n",
        "## **Problem 1 (25 points):**\n",
        "\n",
        "*For this assignment, we are asking you to think concretely about your final project.* The deliverable here will be high-level discussion regarding your planned project and why you think it is appropriate for the course.\n",
        "\n",
        "The final project is fairly open-ended and flexible, but there are two primary restricts. irst, the topics are expected to have some reasonable engineering or chemical/physical/biological science content; if you want to do something that is not firmly scientific in nature, then we will hear you out, but you will have to make the case for its relevance. Second, *you must also utilize some unsupervised learning algorithm* as part of the project.\n",
        "Note that the latter restriction does not preclude you from using supervised machine learning in your project.\n",
        "For example, you may use unsupervised learning to simply analyze your data  or  leverage it in feature engineering/data preprocessing.\n",
        "\n",
        "For this assignment, you need to identify a reasonable germ of an idea.You have considerable flexibility in how you would like to approach the project, although it should likely be done in consultation with the instructors. This assignment is part of that process. We encourage you to discuss with Prof. Webb and/or Bruce via other means even prior to submission of this assignment. Usually the discussion will help focus your efforts.\n",
        "\n",
        "You may base the project on existing or novel/generated data. You may implement (or invent?) an algorithm from scratch, in which case it is advisable to use some fairly simple data to validate the implementation. You may choose to focus on treatment of data or utility of an algorithm (either those that have been covered in class or those that we did not).\n",
        "You may pitch something exploratory. To this point, it is not expected that all projects will \"work.\" Rather, we should have some expectation/hypothesis that they *could* work.  In such circumstances, your report can contextualize the results and potential shortcomings; there is a lot to learn from \"failure.\"\n",
        "On an even more uplifiting note,\n",
        "there is some possibility that class projects can yield downstream publishable results.\n",
        "\n",
        "---\n",
        "\n",
        "Here is a sample list of projects from prior years:\n",
        "\n",
        "* Prediction of scalar coupling constants from elemental properties and coupling type\n",
        "* Machine learning for Predicting Pancreatic Cancer\n",
        "* Application of machine lerning methods to analyze molecular simulation data\n",
        "* Prediction equation  of state from molecule groups\n",
        "* Toxicology Prediction for Quail and Duck from Chemical Formula\n",
        "* Predicting Polymer Glass Transition Temperatures\n",
        "* Predicting Membrane Pervaporation Selectivity for Acetic acid/water Separation\n",
        "* Materialy Symmetry Characterization using X-Ray Diffraction Patterns and Machine Learning\n",
        "* Estimating Maximum Power Density in Microbial Fuel Cells\n",
        "* Prediction of Quantitative Druglikeness\n",
        "* Grey-Box Modeling of Microbial Competition\n",
        "* Predicting Atmospheric Ammonia Patterns\n",
        "* CT Scan Image Segmentation with K-means Clustering\n",
        "* On the Use of Adverse Effect Frequencies of Biologic Therapeutics to Predict Drug Characteristics\n",
        "* Patterns of Microbiom Expression in Vaccinated and Infected Influenza Patients\n",
        "* Developing Predictive Model for Solar Radiation\n",
        "* Unsupervised Learning Order Parameters for Supercooled Water\n",
        "* Estimating Phase Separation Propensity through K-Means Clusteringwith Protein-Sequence Derived Features\n",
        "* SEM Image Classification Through Machine Learning\n",
        "\n",
        "---\n"
      ],
      "metadata": {
        "id": "AILuWZs8lzF7"
      }
    },
    {
      "cell_type": "code",
      "source": [],
      "metadata": {
        "id": "X0-nsJ_xpEsI"
      },
      "execution_count": null,
      "outputs": []
    }
  ]
}