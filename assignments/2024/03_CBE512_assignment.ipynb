{
  "nbformat": 4,
  "nbformat_minor": 0,
  "metadata": {
    "colab": {
      "provenance": []
    },
    "kernelspec": {
      "name": "python3",
      "display_name": "Python 3"
    },
    "language_info": {
      "name": "python"
    }
  },
  "cells": [
    {
      "cell_type": "markdown",
      "source": [
        "## **Name**:\n",
        "## **Status**: (e.g., UG3, G1, etc.)\n",
        "## **Department**:"
      ],
      "metadata": {
        "id": "_3Lw7tcolDvH"
      }
    },
    {
      "cell_type": "markdown",
      "source": [
        "# ***CBE 512. Machine Learning in Chemical Science and Engineering.***\n",
        "## **Assignment 03:** *Midterm Paper and Presentation*\n",
        "### &#169; Princeton University\n",
        "### **DUE**: 11:59pm, November 05, 2023\n",
        "### **Notes**: Supply responses/solutions in a packaged format, including notebook (.ipynb), .docx, or .pdf for your text, and .pdf for slides. Your assignment should be submitted to Canvas."
      ],
      "metadata": {
        "id": "Wr-KFV4plFjv"
      }
    },
    {
      "cell_type": "markdown",
      "source": [
        "\n",
        "\n",
        "---\n",
        "## **Problem 1 (75 points):**\n",
        "\n",
        "*In a brief report*, provide a critical summary and evaluation of a paper in the scientific/engineering literature that makes use of machine learning algorithms to resolve research-oriented questions/problems. The paper need not present new methodology nor does it need to have machine learning as the focal point, although such paper choices are also welcome. If you have questions about your paper choice, please discuss with one of the instructors.\n",
        "\n",
        "\n",
        "There are no rigid constraints on report length; you should use the space necessary to provide a thorough discussion and do a good job. The expectation is that this will land you somewhere in the 2-4 page range.\n",
        "\n",
        "In your summary, you should make an effort to disambiguate jargon and contextualize the approaches in the language we have developed in the course so far. It is not expected that you will have a complete understanding of all the methodology described. That being said, we will be particularly interested to learn about connections to course content, such as their treatment and representation of data, underlying mathematical concepts, the class of machine learning algorithms they employ, the nature of their modeling/optimization/cross-validation (if relevant). You should also critically assess how the research benefited from machine learning and whether it is uniquely justified in the context of their problem. Are there natural next steps or how might problems you know about benefit from the presented approaches?\n",
        "\n",
        "---\n"
      ],
      "metadata": {
        "id": "AILuWZs8lzF7"
      }
    },
    {
      "cell_type": "markdown",
      "source": [
        "\n",
        "\n",
        "---\n",
        "## **Problem 2 (25 points):**\n",
        "\n",
        "*Using 1-2 slides*, distill the most salient aspects of your report from **Problem 1** to accompany a future, brief presentation to the class. The presentation should target 3 minutes in length (leaving 1-2 minutes for questions). The slides will be distributed and used for discussion by the class over the dates on **October 29 and October 31** during the class period; the actual presentation is graded separately.\n",
        "\n",
        "The slides will be graded based on aesthetics, organization, and clarity. Despite the fact that the slides will be used in tandem with some oral description, good slides should be generally interpretable and understandable by knowledgeable bystanders.\n",
        "\n",
        "---\n"
      ],
      "metadata": {
        "id": "4vqmhVqgmone"
      }
    },
    {
      "cell_type": "code",
      "source": [],
      "metadata": {
        "id": "X0-nsJ_xpEsI"
      },
      "execution_count": null,
      "outputs": []
    }
  ]
}