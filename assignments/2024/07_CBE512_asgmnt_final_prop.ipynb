{
  "nbformat": 4,
  "nbformat_minor": 0,
  "metadata": {
    "colab": {
      "provenance": []
    },
    "kernelspec": {
      "name": "python3",
      "display_name": "Python 3"
    },
    "language_info": {
      "name": "python"
    }
  },
  "cells": [
    {
      "cell_type": "markdown",
      "source": [
        "## **Name**:\n",
        "## **Status**: (e.g., UG3, G1, etc.)\n",
        "## **Department**:"
      ],
      "metadata": {
        "id": "_3Lw7tcolDvH"
      }
    },
    {
      "cell_type": "markdown",
      "source": [
        "# ***CBE 512. Machine Learning in Chemical Science and Engineering.***\n",
        "## **Assignment 07:** *Final Paper and Presentation*\n",
        "### &#169; Princeton University\n",
        "### **DUE**: 11:59pm, December 19, 2024\n",
        "### **Notes**: Supply responses/solutions in a packaged format, including notebook (.ipynb), .docx, or .pdf for your text, and .pdf for slides. Your assignment should be submitted to Canvas.\n",
        "### Please use the following format for naming your files:\n",
        "* `slides-cbe512-24-lastname-firstname.pdf`\n",
        "* `report-cbe512-24-lastname-firstname.pdf`\n",
        "* `notebook-cbe512-24-lastname-firstname.zip`\n"
      ],
      "metadata": {
        "id": "Wr-KFV4plFjv"
      }
    },
    {
      "cell_type": "markdown",
      "source": [
        "\n",
        "\n",
        "---\n",
        "## **Problem 1 (100,000 points):**\n",
        "\n",
        "### **Overview**\n",
        "*In your final project*, you will employ machine learning algorithms (of your choosing) to facilitate study of a topical problem (of your interest).\n",
        "There are two primary restrictions:\n",
        "* the topics must possess engineering or chemical/physical/biological science content unless otherwise approved.\n",
        "* *you must utilize some unsupervised learning algorithm* as part of the project.\n",
        "\n",
        "Note that the latter restriction does not preclude you from using supervised machine learning in your project.\n",
        "For example, you may use unsupervised learning to simply analyze your data  or  leverage it in feature engineering/data preprocessing.\n",
        "\n",
        "### **Deliverables**\n",
        "**The final project will have *three* deliverables:**\n",
        "* A written report summarizing your project and results. The recommended format for the report is as an abbreviated scientific paper (e.g., introduction describing the problem/scope, brief methodological description of relevant algorithms and technical approach, results \\& discussion, conclusion/summary/outlook). Your methods should be described well enough that they could be reasonably reproduced by a person versed in the art/who has taken CBE512. Target range for the paper may be around 5 pages (single-spaced), including appropriately sized figures and excluding references, but you should use space as warranted.\n",
        "* 2-3 slides summarizing the project (to be presented during a scheduled time in reading period).\n",
        "* Supporting code, Jupyter notebook, or Github repository.\n",
        "\n",
        "### **Paper Length**\n",
        "There are no rigid constraints on report length; you should use the space necessary to provide a thorough discussion and do a good job. The expectation is that this will land you somewhere in the 3-5 page range. A reasonable format for the report would be that similar to a scientific manuscript, including Abstract, Intro, Methods, Results & Discussion, Conclusion. You can treat your project, which is supposed to be generating results, as a true scientific investigation with motivation--and so it is befitting of this format. Due to time restrictions, of course, we do not expect that the results generated are necessarily publication worthy (although maybe they could be with further refinement).\n",
        "\n",
        "### **Project Success and Philosophy**\n",
        "\n",
        "Due to time restrictions, of course, we do not expect that the results generated will be necessarily publication worthy (although maybe they could be with further refinement). If you encounter marked difficulties/challengies -- embrace the challenge and frame your discussion/report around the issues and potential resolution. It will be evident if you have seriously tried and considered your problem? What would need to be changed to make it more successful? Why did an algorithm not work? Here, you/we can learn something for the future. More than technical success, which requires time and continued effort, the project is meant to be an immersion experience wherein one is exposed to the lurking questions and challenges of true deployment of ML for physical science and engineering.\n",
        "\n",
        "---\n"
      ],
      "metadata": {
        "id": "AILuWZs8lzF7"
      }
    },
    {
      "cell_type": "code",
      "source": [],
      "metadata": {
        "id": "X0-nsJ_xpEsI"
      },
      "execution_count": null,
      "outputs": []
    }
  ]
}