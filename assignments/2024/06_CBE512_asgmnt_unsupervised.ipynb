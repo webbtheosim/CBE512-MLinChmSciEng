{
  "nbformat": 4,
  "nbformat_minor": 0,
  "metadata": {
    "colab": {
      "provenance": []
    },
    "kernelspec": {
      "name": "python3",
      "display_name": "Python 3"
    },
    "language_info": {
      "name": "python"
    }
  },
  "cells": [
    {
      "cell_type": "markdown",
      "source": [
        "## **Name**:\n",
        "## **Status**: (e.g., UG3, G1, etc.)\n",
        "## **Department**:"
      ],
      "metadata": {
        "id": "bkT6A_y25UQp"
      }
    },
    {
      "cell_type": "markdown",
      "source": [
        "# ***CBE 512. Machine Learning in Chemical Science and Engineering.***\n",
        "## **Assignment 06:** *Cheminformatics, Clustering, and Dimension Reduction*\n",
        "### &#169; Princeton University\n",
        "### **DUE**: 11:59pm, December 06, 2024\n",
        "### **Notes**: Supply responses/solutions in a packaged format, including notebook (.ipynb) and any supporting files required to run the notebook. Your assignment should be submitted to Canvas."
      ],
      "metadata": {
        "id": "ArUUNtHR3UuW"
      }
    },
    {
      "cell_type": "markdown",
      "source": [
        "\n",
        "\n",
        "---\n",
        "## **Problem 1. Concept Checks (20 points):**\n",
        "\n",
        "**(a)** Pick two clustering techniques from distinct algorithmic classes (e.g., partition, distribution, hierarchical, density-based). Describe the methdological essence of your chosen techniques. In this description, highlight any requisite hyperparameters as well as prospective advantages and disadvantages.\n",
        "\n",
        "---\n"
      ],
      "metadata": {
        "id": "LMEau62h4hnt"
      }
    },
    {
      "cell_type": "markdown",
      "source": [
        "***Student Response:***"
      ],
      "metadata": {
        "id": "z_gNEWMY5MWT"
      }
    },
    {
      "cell_type": "markdown",
      "source": [
        "**(b)** In class, we described two conventional approaches to molecular featurization. The first is predicated on the generation of *fingerprints* (usually bit vectors), and the second relates to the generation of *vectors of descriptors*. Describe the basic elements of each, commenting on potential advantages or disadvantages as related to property-prediction tasks.\n",
        "\n",
        "---"
      ],
      "metadata": {
        "id": "fJepebZc2YVq"
      }
    },
    {
      "cell_type": "markdown",
      "source": [
        "***Student Response:***"
      ],
      "metadata": {
        "id": "bpQgJBFq33Rq"
      }
    },
    {
      "cell_type": "markdown",
      "source": [
        "**(c)** Suppose you are using molecular fingerprints as your featurization approach to molecules. In class, we mentioned multiple ways to think of *similarity* or *dissimilarity* between pairs of molecules. Pick one and describe how it works. What are the challenges with using Euclidean distances to express dissimilarity?\n",
        "\n",
        "---"
      ],
      "metadata": {
        "id": "3FiJ92Gd4GZp"
      }
    },
    {
      "cell_type": "markdown",
      "source": [
        "***Student Response:***"
      ],
      "metadata": {
        "id": "oRjmDO0i4tex"
      }
    },
    {
      "cell_type": "markdown",
      "source": [
        "\n",
        "\n",
        "---\n",
        "\n",
        "## **Problem 2. Examining Mid-Infrared Spectra of Plastic Waste (80 points):**\n",
        "\n",
        "In this problem, we are going to try out some dimensionality reduction and clustering techniques. We will use mid-infrared (MIR) spectral data from the mixed plastic dataset available in our [github](https://github.com/webbtheosim/CBE512-MLinChmSciEng/blob/main/data/plastic_ir.pickle) (take a look, it is named `plastic_ir.pickle`). MIR spectroscopy offers an advantage over traditional infrared (IR) spectroscopy, as it can differentiate between various types of black plastics, which IR cannot. The paper associated with this dataset is available at (https://par.nsf.gov/servlets/purl/10482351).\n",
        "\n",
        "---\n",
        "\n"
      ],
      "metadata": {
        "id": "S0KYfiA1JN94"
      }
    },
    {
      "cell_type": "markdown",
      "source": [
        "**(a)** Download and process `plastic_ir.pickle`.\n",
        "```\n",
        "  with open('plastic_ir.pickle', 'rb') as handle:\n",
        "      spectra = pickle.load(handle)\n",
        "      labels = pickle.load(handle)\n",
        "      wavenumbers = pickle.load(handle)\n",
        "```\n",
        "The dataset consists of a (500, 975) spectra array containing 500 MIR plastic spectra, each with 975 data points. The labels array, shaped (500,), indicates the type of plastic for each spectrum. The wavenumber array, shaped (975,), provides corresponding wavenumber values in cm^-1. Visualize the dataset by plotting the raw spectra, grouping them by their labels. Use the same color for spectra with the same label. Hint: You can use `np.unique`. Additionally, comment on the noises you observe.\n",
        "\n",
        "---\n",
        "\n"
      ],
      "metadata": {
        "id": "Ahk6zjBKMnNq"
      }
    },
    {
      "cell_type": "code",
      "source": [],
      "metadata": {
        "id": "ifesTZTUCrfr"
      },
      "execution_count": null,
      "outputs": []
    },
    {
      "cell_type": "markdown",
      "source": [
        "**(b)** Utilize a dimensionality reduction technique to create a two-dimensional projection of the spectra data. You can use a linear technique or a [non-linear manifold learning technique](https://scikit-learn.org/stable/modules/classes.html#module-sklearn.manifold). Often, linear techniques (like PCA) are actually applied as a preprocessing step prior to deploying non-linear techniques that may be computationally expensive. Visualize your results.\n",
        "\n",
        "Additionally, apply smoothing to the original spectra using techniques such as moving average or the Savitzky-Golay filter. After smoothing, perform dimensionality reduction and analyze whether any differences are observed compared to the unsmoothed data.\n",
        "\n",
        "---"
      ],
      "metadata": {
        "id": "-1M41H04iW_s"
      }
    },
    {
      "cell_type": "code",
      "source": [],
      "metadata": {
        "id": "BU1FMLMJHIAH"
      },
      "execution_count": null,
      "outputs": []
    },
    {
      "cell_type": "markdown",
      "source": [
        "**(c)** Select a clustering technique of interest, such as k-means or DBSCAN, and perform clustering in the projection-space obtained from the unsupervised learning algorithm using the unsmoothed original data. Study how clustering results are affected by changing hyperparameters associated with the clustering technique and monitoring the silhouette score. Are there natural clusters in the data/do the clusters make sense?\n",
        "\n",
        "It may be useful to select a specific cluster and another cluster far away to inspect whether plastics within one cluster seem intuitively more related than those in the distant cluster. Without necessarily doing so (although you may if you wish), how could you further quantify whether intra-cluster spectra similarity is higher than between-group spectra similarity, apart from using [cluster-based metrics](https://scikit-learn.org/stable/modules/clustering.html#clustering-evaluation) themselves?\n",
        "\n",
        "---"
      ],
      "metadata": {
        "id": "3BzVQosbHJDx"
      }
    },
    {
      "cell_type": "code",
      "source": [],
      "metadata": {
        "id": "wYPt5lLdwd-d"
      },
      "execution_count": null,
      "outputs": []
    }
  ]
}